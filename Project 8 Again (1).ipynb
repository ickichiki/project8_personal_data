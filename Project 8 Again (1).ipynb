{
 "cells": [
  {
   "cell_type": "markdown",
   "id": "df07eb5d",
   "metadata": {},
   "source": [
    "# Part 1"
   ]
  },
  {
   "cell_type": "markdown",
   "id": "2b146f52",
   "metadata": {},
   "source": [
    "For extracting timestamps, I first made a new dataframe that only had the timestamp column and then exported it to a csv file."
   ]
  },
  {
   "cell_type": "markdown",
   "id": "fc76be2e",
   "metadata": {},
   "source": [
    "For example:\n",
    "df_timestamps = df['timestamps']\n",
    "df_timestamps.to_csv()"
   ]
  },
  {
   "cell_type": "markdown",
   "id": "57327d96",
   "metadata": {},
   "source": [
    "# Part 2"
   ]
  },
  {
   "cell_type": "markdown",
   "id": "423fa5c8",
   "metadata": {},
   "source": [
    "For Part 2, I used Professor Wirfs-Brock's timestamp data."
   ]
  },
  {
   "cell_type": "code",
   "execution_count": 2,
   "id": "83f85390",
   "metadata": {},
   "outputs": [],
   "source": [
    "import pandas as pd\n",
    "import numpy as np\n",
    "from matplotlib import pyplot as plot"
   ]
  },
  {
   "cell_type": "code",
   "execution_count": 3,
   "id": "9f1ba1c9",
   "metadata": {},
   "outputs": [
    {
     "data": {
      "text/html": [
       "<div>\n",
       "<style scoped>\n",
       "    .dataframe tbody tr th:only-of-type {\n",
       "        vertical-align: middle;\n",
       "    }\n",
       "\n",
       "    .dataframe tbody tr th {\n",
       "        vertical-align: top;\n",
       "    }\n",
       "\n",
       "    .dataframe thead th {\n",
       "        text-align: right;\n",
       "    }\n",
       "</style>\n",
       "<table border=\"1\" class=\"dataframe\">\n",
       "  <thead>\n",
       "    <tr style=\"text-align: right;\">\n",
       "      <th></th>\n",
       "      <th>Unnamed: 0</th>\n",
       "      <th>timestamp</th>\n",
       "    </tr>\n",
       "  </thead>\n",
       "  <tbody>\n",
       "    <tr>\n",
       "      <th>0</th>\n",
       "      <td>0</td>\n",
       "      <td>2022-11-06T01:53:35Z</td>\n",
       "    </tr>\n",
       "    <tr>\n",
       "      <th>1</th>\n",
       "      <td>1</td>\n",
       "      <td>2022-11-06T01:54:37Z</td>\n",
       "    </tr>\n",
       "    <tr>\n",
       "      <th>2</th>\n",
       "      <td>2</td>\n",
       "      <td>2022-11-10T19:44:53Z</td>\n",
       "    </tr>\n",
       "    <tr>\n",
       "      <th>3</th>\n",
       "      <td>3</td>\n",
       "      <td>2022-11-28T20:30:12Z</td>\n",
       "    </tr>\n",
       "    <tr>\n",
       "      <th>4</th>\n",
       "      <td>4</td>\n",
       "      <td>2022-12-01T17:57:23Z</td>\n",
       "    </tr>\n",
       "    <tr>\n",
       "      <th>...</th>\n",
       "      <td>...</td>\n",
       "      <td>...</td>\n",
       "    </tr>\n",
       "    <tr>\n",
       "      <th>209</th>\n",
       "      <td>209</td>\n",
       "      <td>2023-11-15T18:12:54Z</td>\n",
       "    </tr>\n",
       "    <tr>\n",
       "      <th>210</th>\n",
       "      <td>210</td>\n",
       "      <td>2023-11-15T18:14:31Z</td>\n",
       "    </tr>\n",
       "    <tr>\n",
       "      <th>211</th>\n",
       "      <td>211</td>\n",
       "      <td>2023-11-15T18:15:59Z</td>\n",
       "    </tr>\n",
       "    <tr>\n",
       "      <th>212</th>\n",
       "      <td>212</td>\n",
       "      <td>2023-11-15T22:39:00Z</td>\n",
       "    </tr>\n",
       "    <tr>\n",
       "      <th>213</th>\n",
       "      <td>213</td>\n",
       "      <td>2023-11-17T16:31:27Z</td>\n",
       "    </tr>\n",
       "  </tbody>\n",
       "</table>\n",
       "<p>214 rows × 2 columns</p>\n",
       "</div>"
      ],
      "text/plain": [
       "     Unnamed: 0             timestamp\n",
       "0             0  2022-11-06T01:53:35Z\n",
       "1             1  2022-11-06T01:54:37Z\n",
       "2             2  2022-11-10T19:44:53Z\n",
       "3             3  2022-11-28T20:30:12Z\n",
       "4             4  2022-12-01T17:57:23Z\n",
       "..          ...                   ...\n",
       "209         209  2023-11-15T18:12:54Z\n",
       "210         210  2023-11-15T18:14:31Z\n",
       "211         211  2023-11-15T18:15:59Z\n",
       "212         212  2023-11-15T22:39:00Z\n",
       "213         213  2023-11-17T16:31:27Z\n",
       "\n",
       "[214 rows x 2 columns]"
      ]
     },
     "execution_count": 3,
     "metadata": {},
     "output_type": "execute_result"
    }
   ],
   "source": [
    "timestamps = pd.read_csv('/Users/nikita/Desktop/profWB_timestamps.csv')\n",
    "timestamps"
   ]
  },
  {
   "cell_type": "code",
   "execution_count": 4,
   "id": "60858951",
   "metadata": {},
   "outputs": [
    {
     "data": {
      "text/html": [
       "<div>\n",
       "<style scoped>\n",
       "    .dataframe tbody tr th:only-of-type {\n",
       "        vertical-align: middle;\n",
       "    }\n",
       "\n",
       "    .dataframe tbody tr th {\n",
       "        vertical-align: top;\n",
       "    }\n",
       "\n",
       "    .dataframe thead th {\n",
       "        text-align: right;\n",
       "    }\n",
       "</style>\n",
       "<table border=\"1\" class=\"dataframe\">\n",
       "  <thead>\n",
       "    <tr style=\"text-align: right;\">\n",
       "      <th></th>\n",
       "      <th>Unnamed: 0</th>\n",
       "      <th>timestamp</th>\n",
       "    </tr>\n",
       "  </thead>\n",
       "  <tbody>\n",
       "    <tr>\n",
       "      <th>0</th>\n",
       "      <td>0</td>\n",
       "      <td>2022-11-06T01:53:35Z</td>\n",
       "    </tr>\n",
       "    <tr>\n",
       "      <th>1</th>\n",
       "      <td>1</td>\n",
       "      <td>2022-11-06T01:54:37Z</td>\n",
       "    </tr>\n",
       "    <tr>\n",
       "      <th>2</th>\n",
       "      <td>2</td>\n",
       "      <td>2022-11-10T19:44:53Z</td>\n",
       "    </tr>\n",
       "    <tr>\n",
       "      <th>3</th>\n",
       "      <td>3</td>\n",
       "      <td>2022-11-28T20:30:12Z</td>\n",
       "    </tr>\n",
       "    <tr>\n",
       "      <th>4</th>\n",
       "      <td>4</td>\n",
       "      <td>2022-12-01T17:57:23Z</td>\n",
       "    </tr>\n",
       "    <tr>\n",
       "      <th>...</th>\n",
       "      <td>...</td>\n",
       "      <td>...</td>\n",
       "    </tr>\n",
       "    <tr>\n",
       "      <th>209</th>\n",
       "      <td>209</td>\n",
       "      <td>2023-11-15T18:12:54Z</td>\n",
       "    </tr>\n",
       "    <tr>\n",
       "      <th>210</th>\n",
       "      <td>210</td>\n",
       "      <td>2023-11-15T18:14:31Z</td>\n",
       "    </tr>\n",
       "    <tr>\n",
       "      <th>211</th>\n",
       "      <td>211</td>\n",
       "      <td>2023-11-15T18:15:59Z</td>\n",
       "    </tr>\n",
       "    <tr>\n",
       "      <th>212</th>\n",
       "      <td>212</td>\n",
       "      <td>2023-11-15T22:39:00Z</td>\n",
       "    </tr>\n",
       "    <tr>\n",
       "      <th>213</th>\n",
       "      <td>213</td>\n",
       "      <td>2023-11-17T16:31:27Z</td>\n",
       "    </tr>\n",
       "  </tbody>\n",
       "</table>\n",
       "<p>214 rows × 2 columns</p>\n",
       "</div>"
      ],
      "text/plain": [
       "     Unnamed: 0             timestamp\n",
       "0             0  2022-11-06T01:53:35Z\n",
       "1             1  2022-11-06T01:54:37Z\n",
       "2             2  2022-11-10T19:44:53Z\n",
       "3             3  2022-11-28T20:30:12Z\n",
       "4             4  2022-12-01T17:57:23Z\n",
       "..          ...                   ...\n",
       "209         209  2023-11-15T18:12:54Z\n",
       "210         210  2023-11-15T18:14:31Z\n",
       "211         211  2023-11-15T18:15:59Z\n",
       "212         212  2023-11-15T22:39:00Z\n",
       "213         213  2023-11-17T16:31:27Z\n",
       "\n",
       "[214 rows x 2 columns]"
      ]
     },
     "execution_count": 4,
     "metadata": {},
     "output_type": "execute_result"
    }
   ],
   "source": [
    "timestamps.sort_values('timestamp')"
   ]
  },
  {
   "cell_type": "code",
   "execution_count": 5,
   "id": "86acdc79",
   "metadata": {},
   "outputs": [
    {
     "name": "stderr",
     "output_type": "stream",
     "text": [
      "/var/folders/1t/671mxt1x2bj2c4t5bvjchvj80000gn/T/ipykernel_4709/240942426.py:3: SettingWithCopyWarning: \n",
      "A value is trying to be set on a copy of a slice from a DataFrame\n",
      "\n",
      "See the caveats in the documentation: https://pandas.pydata.org/pandas-docs/stable/user_guide/indexing.html#returning-a-view-versus-a-copy\n",
      "  timestamps['time_elapsed'][i]=pd.Timestamp(timestamps['timestamp'][i])-pd.Timestamp(timestamps['timestamp'][i-1])\n"
     ]
    }
   ],
   "source": [
    "timestamps['time_elapsed']=''\n",
    "for i in range(1,214):\n",
    "    timestamps['time_elapsed'][i]=pd.Timestamp(timestamps['timestamp'][i])-pd.Timestamp(timestamps['timestamp'][i-1])"
   ]
  },
  {
   "cell_type": "markdown",
   "id": "dbd2e342",
   "metadata": {},
   "source": [
    "Googled to see if there was an easier way to calculate the difference between Timestamps without turning them into strings and coming up with a whole function myself... Turns out there was!"
   ]
  },
  {
   "cell_type": "code",
   "execution_count": 6,
   "id": "194fb90e",
   "metadata": {},
   "outputs": [
    {
     "data": {
      "text/html": [
       "<div>\n",
       "<style scoped>\n",
       "    .dataframe tbody tr th:only-of-type {\n",
       "        vertical-align: middle;\n",
       "    }\n",
       "\n",
       "    .dataframe tbody tr th {\n",
       "        vertical-align: top;\n",
       "    }\n",
       "\n",
       "    .dataframe thead th {\n",
       "        text-align: right;\n",
       "    }\n",
       "</style>\n",
       "<table border=\"1\" class=\"dataframe\">\n",
       "  <thead>\n",
       "    <tr style=\"text-align: right;\">\n",
       "      <th></th>\n",
       "      <th>Unnamed: 0</th>\n",
       "      <th>timestamp</th>\n",
       "      <th>time_elapsed</th>\n",
       "    </tr>\n",
       "  </thead>\n",
       "  <tbody>\n",
       "    <tr>\n",
       "      <th>0</th>\n",
       "      <td>0</td>\n",
       "      <td>2022-11-06T01:53:35Z</td>\n",
       "      <td></td>\n",
       "    </tr>\n",
       "    <tr>\n",
       "      <th>1</th>\n",
       "      <td>1</td>\n",
       "      <td>2022-11-06T01:54:37Z</td>\n",
       "      <td>0 days 00:01:02</td>\n",
       "    </tr>\n",
       "    <tr>\n",
       "      <th>2</th>\n",
       "      <td>2</td>\n",
       "      <td>2022-11-10T19:44:53Z</td>\n",
       "      <td>4 days 17:50:16</td>\n",
       "    </tr>\n",
       "    <tr>\n",
       "      <th>3</th>\n",
       "      <td>3</td>\n",
       "      <td>2022-11-28T20:30:12Z</td>\n",
       "      <td>18 days 00:45:19</td>\n",
       "    </tr>\n",
       "    <tr>\n",
       "      <th>4</th>\n",
       "      <td>4</td>\n",
       "      <td>2022-12-01T17:57:23Z</td>\n",
       "      <td>2 days 21:27:11</td>\n",
       "    </tr>\n",
       "    <tr>\n",
       "      <th>...</th>\n",
       "      <td>...</td>\n",
       "      <td>...</td>\n",
       "      <td>...</td>\n",
       "    </tr>\n",
       "    <tr>\n",
       "      <th>209</th>\n",
       "      <td>209</td>\n",
       "      <td>2023-11-15T18:12:54Z</td>\n",
       "      <td>0 days 00:01:04</td>\n",
       "    </tr>\n",
       "    <tr>\n",
       "      <th>210</th>\n",
       "      <td>210</td>\n",
       "      <td>2023-11-15T18:14:31Z</td>\n",
       "      <td>0 days 00:01:37</td>\n",
       "    </tr>\n",
       "    <tr>\n",
       "      <th>211</th>\n",
       "      <td>211</td>\n",
       "      <td>2023-11-15T18:15:59Z</td>\n",
       "      <td>0 days 00:01:28</td>\n",
       "    </tr>\n",
       "    <tr>\n",
       "      <th>212</th>\n",
       "      <td>212</td>\n",
       "      <td>2023-11-15T22:39:00Z</td>\n",
       "      <td>0 days 04:23:01</td>\n",
       "    </tr>\n",
       "    <tr>\n",
       "      <th>213</th>\n",
       "      <td>213</td>\n",
       "      <td>2023-11-17T16:31:27Z</td>\n",
       "      <td>1 days 17:52:27</td>\n",
       "    </tr>\n",
       "  </tbody>\n",
       "</table>\n",
       "<p>214 rows × 3 columns</p>\n",
       "</div>"
      ],
      "text/plain": [
       "     Unnamed: 0             timestamp      time_elapsed\n",
       "0             0  2022-11-06T01:53:35Z                  \n",
       "1             1  2022-11-06T01:54:37Z   0 days 00:01:02\n",
       "2             2  2022-11-10T19:44:53Z   4 days 17:50:16\n",
       "3             3  2022-11-28T20:30:12Z  18 days 00:45:19\n",
       "4             4  2022-12-01T17:57:23Z   2 days 21:27:11\n",
       "..          ...                   ...               ...\n",
       "209         209  2023-11-15T18:12:54Z   0 days 00:01:04\n",
       "210         210  2023-11-15T18:14:31Z   0 days 00:01:37\n",
       "211         211  2023-11-15T18:15:59Z   0 days 00:01:28\n",
       "212         212  2023-11-15T22:39:00Z   0 days 04:23:01\n",
       "213         213  2023-11-17T16:31:27Z   1 days 17:52:27\n",
       "\n",
       "[214 rows x 3 columns]"
      ]
     },
     "execution_count": 6,
     "metadata": {},
     "output_type": "execute_result"
    }
   ],
   "source": [
    "timestamps"
   ]
  },
  {
   "cell_type": "code",
   "execution_count": 7,
   "id": "6765dc04",
   "metadata": {},
   "outputs": [
    {
     "data": {
      "text/plain": [
       "count                 214\n",
       "unique                203\n",
       "top       0 days 00:00:35\n",
       "freq                    3\n",
       "Name: time_elapsed, dtype: object"
      ]
     },
     "execution_count": 7,
     "metadata": {},
     "output_type": "execute_result"
    }
   ],
   "source": [
    "timestamps['time_elapsed'].describe()"
   ]
  },
  {
   "cell_type": "markdown",
   "id": "ce7ce713",
   "metadata": {},
   "source": [
    "Question 3: What is the longest time between timestamps? What is the average time between timestamps?"
   ]
  },
  {
   "cell_type": "code",
   "execution_count": 8,
   "id": "aa4f50ca",
   "metadata": {},
   "outputs": [
    {
     "data": {
      "text/plain": [
       "Timedelta('27 days 17:59:27')"
      ]
     },
     "execution_count": 8,
     "metadata": {},
     "output_type": "execute_result"
    }
   ],
   "source": [
    "longest_time = timestamps['time_elapsed'][1]\n",
    "for i in range(1,len(timestamps)):\n",
    "    if timestamps['time_elapsed'][i]>longest_time:\n",
    "        longest_time=timestamps['time_elapsed'][i]\n",
    "longest_time"
   ]
  },
  {
   "cell_type": "code",
   "execution_count": 9,
   "id": "092f3ebc",
   "metadata": {},
   "outputs": [
    {
     "data": {
      "text/plain": [
       "Timedelta('1 days 18:26:05.596244131')"
      ]
     },
     "execution_count": 9,
     "metadata": {},
     "output_type": "execute_result"
    }
   ],
   "source": [
    "total_time = timestamps['time_elapsed'][1]\n",
    "for i in range(2,len(timestamps)):\n",
    "    total_time += timestamps['time_elapsed'][i]\n",
    "total_time/(len(timestamps)-1)"
   ]
  },
  {
   "cell_type": "markdown",
   "id": "dedb4d80",
   "metadata": {},
   "source": [
    "Question 4: What is the day with the most timestamps? How many events (timestamps) were on that day?"
   ]
  },
  {
   "cell_type": "code",
   "execution_count": 10,
   "id": "077dbfe7",
   "metadata": {},
   "outputs": [
    {
     "name": "stderr",
     "output_type": "stream",
     "text": [
      "/var/folders/1t/671mxt1x2bj2c4t5bvjchvj80000gn/T/ipykernel_4709/1756267731.py:7: SettingWithCopyWarning: \n",
      "A value is trying to be set on a copy of a slice from a DataFrame\n",
      "\n",
      "See the caveats in the documentation: https://pandas.pydata.org/pandas-docs/stable/user_guide/indexing.html#returning-a-view-versus-a-copy\n",
      "  timestamps['day'][i]=temp.day\n",
      "/var/folders/1t/671mxt1x2bj2c4t5bvjchvj80000gn/T/ipykernel_4709/1756267731.py:8: SettingWithCopyWarning: \n",
      "A value is trying to be set on a copy of a slice from a DataFrame\n",
      "\n",
      "See the caveats in the documentation: https://pandas.pydata.org/pandas-docs/stable/user_guide/indexing.html#returning-a-view-versus-a-copy\n",
      "  timestamps['month'][i]=temp.month\n",
      "/var/folders/1t/671mxt1x2bj2c4t5bvjchvj80000gn/T/ipykernel_4709/1756267731.py:9: SettingWithCopyWarning: \n",
      "A value is trying to be set on a copy of a slice from a DataFrame\n",
      "\n",
      "See the caveats in the documentation: https://pandas.pydata.org/pandas-docs/stable/user_guide/indexing.html#returning-a-view-versus-a-copy\n",
      "  timestamps['year'][i]=temp.year\n",
      "/var/folders/1t/671mxt1x2bj2c4t5bvjchvj80000gn/T/ipykernel_4709/1756267731.py:10: SettingWithCopyWarning: \n",
      "A value is trying to be set on a copy of a slice from a DataFrame\n",
      "\n",
      "See the caveats in the documentation: https://pandas.pydata.org/pandas-docs/stable/user_guide/indexing.html#returning-a-view-versus-a-copy\n",
      "  timestamps['date'][i]=str(temp.month)+'-'+str(temp.day)+'-'+str(temp.year)\n"
     ]
    }
   ],
   "source": [
    "timestamps['day']=''\n",
    "timestamps['month']=''\n",
    "timestamps['year']=''\n",
    "timestamps['date']=''\n",
    "for i in range(len(timestamps)):\n",
    "    temp = pd.to_datetime(timestamps['timestamp'][i])\n",
    "    timestamps['day'][i]=temp.day\n",
    "    timestamps['month'][i]=temp.month\n",
    "    timestamps['year'][i]=temp.year\n",
    "    timestamps['date'][i]=str(temp.month)+'-'+str(temp.day)+'-'+str(temp.year)"
   ]
  },
  {
   "cell_type": "code",
   "execution_count": 11,
   "id": "0ec77bcb",
   "metadata": {},
   "outputs": [
    {
     "data": {
      "text/plain": [
       "4-6-2023      10\n",
       "4-21-2023     10\n",
       "10-24-2023     8\n",
       "3-13-2023      7\n",
       "10-5-2023      7\n",
       "              ..\n",
       "8-23-2023      1\n",
       "3-6-2023       1\n",
       "9-14-2023      1\n",
       "3-5-2023       1\n",
       "11-17-2023     1\n",
       "Name: date, Length: 91, dtype: int64"
      ]
     },
     "execution_count": 11,
     "metadata": {},
     "output_type": "execute_result"
    }
   ],
   "source": [
    "timestamps['date'].value_counts()"
   ]
  },
  {
   "cell_type": "markdown",
   "id": "c0cb849b",
   "metadata": {},
   "source": [
    "What is the month with the most timestamps? How many events (timestamps) were on that month?"
   ]
  },
  {
   "cell_type": "code",
   "execution_count": 12,
   "id": "09086a99",
   "metadata": {},
   "outputs": [
    {
     "data": {
      "text/plain": [
       "10    45\n",
       "4     38\n",
       "2     30\n",
       "3     23\n",
       "11    18\n",
       "12    15\n",
       "1     14\n",
       "9     13\n",
       "5      9\n",
       "8      4\n",
       "6      3\n",
       "7      2\n",
       "Name: month, dtype: int64"
      ]
     },
     "execution_count": 12,
     "metadata": {},
     "output_type": "execute_result"
    }
   ],
   "source": [
    "timestamps['month'].value_counts()"
   ]
  },
  {
   "cell_type": "markdown",
   "id": "989f466d",
   "metadata": {},
   "source": [
    "Create at least one visualization of this data:"
   ]
  },
  {
   "cell_type": "code",
   "execution_count": 13,
   "id": "bccc2381",
   "metadata": {},
   "outputs": [
    {
     "data": {
      "text/plain": [
       "<AxesSubplot:>"
      ]
     },
     "execution_count": 13,
     "metadata": {},
     "output_type": "execute_result"
    },
    {
     "data": {
      "image/png": "[encoded data removed]",
      "text/plain": [
       "<Figure size 640x480 with 1 Axes>"
      ]
     },
     "metadata": {},
     "output_type": "display_data"
    }
   ],
   "source": [
    "timestamps['date'].value_counts(sort=False).plot()"
   ]
  },
  {
   "cell_type": "markdown",
   "id": "1f6150dd",
   "metadata": {},
   "source": [
    "Looks like activity time was at a high in April and there was a lull in August."
   ]
  },
  {
   "cell_type": "markdown",
   "id": "482c875c",
   "metadata": {},
   "source": [
    "What do you think the source of this data is? Write a few sentences explaining your reasoning, as well as what other data might help you verify if you are correct?"
   ]
  },
  {
   "cell_type": "markdown",
   "id": "c7719951",
   "metadata": {},
   "source": [
    "I'm not sure what acitivity this dataset matches up to, I don't know Professor WB enough to know her habits. What would she use for longer stints over the summer and then use less at the beginning of the school year? What would she use 10 times one day and then stop using for a couple of days?\n",
    "Spotify, Netflix, Google...\n",
    "It's occuring to me that time of day might be helpful to know as well."
   ]
  },
  {
   "cell_type": "code",
   "execution_count": 35,
   "id": "23c80204",
   "metadata": {},
   "outputs": [
    {
     "name": "stderr",
     "output_type": "stream",
     "text": [
      "/var/folders/1t/671mxt1x2bj2c4t5bvjchvj80000gn/T/ipykernel_4709/3991700014.py:2: SettingWithCopyWarning: \n",
      "A value is trying to be set on a copy of a slice from a DataFrame\n",
      "\n",
      "See the caveats in the documentation: https://pandas.pydata.org/pandas-docs/stable/user_guide/indexing.html#returning-a-view-versus-a-copy\n",
      "  timestamps['timestamp'][i]=pd.Timestamp(timestamps['timestamp'][i])\n"
     ]
    }
   ],
   "source": [
    "for i in range(len(timestamps)):\n",
    "    timestamps['timestamp'][i]=pd.Timestamp(timestamps['timestamp'][i])"
   ]
  },
  {
   "cell_type": "code",
   "execution_count": 41,
   "id": "024671f5",
   "metadata": {},
   "outputs": [
    {
     "name": "stderr",
     "output_type": "stream",
     "text": [
      "/var/folders/1t/671mxt1x2bj2c4t5bvjchvj80000gn/T/ipykernel_4709/3405456196.py:3: SettingWithCopyWarning: \n",
      "A value is trying to be set on a copy of a slice from a DataFrame\n",
      "\n",
      "See the caveats in the documentation: https://pandas.pydata.org/pandas-docs/stable/user_guide/indexing.html#returning-a-view-versus-a-copy\n",
      "  timestamps['hour'][i]=timestamps['timestamp'][i].hour\n"
     ]
    }
   ],
   "source": [
    "timestamps['hour']=''\n",
    "for i in range(len(timestamps)):\n",
    "    timestamps['hour'][i]=timestamps['timestamp'][i].hour"
   ]
  },
  {
   "cell_type": "code",
   "execution_count": 63,
   "id": "992ea9b9",
   "metadata": {},
   "outputs": [
    {
     "data": {
      "text/plain": [
       "<AxesSubplot:>"
      ]
     },
     "execution_count": 63,
     "metadata": {},
     "output_type": "execute_result"
    },
    {
     "data": {
      "image/png": "[encoded data removed]",
      "text/plain": [
       "<Figure size 640x480 with 1 Axes>"
      ]
     },
     "metadata": {},
     "output_type": "display_data"
    }
   ],
   "source": [
    "timestamps['hour'].value_counts().sort_index().plot(kind='bar')"
   ]
  },
  {
   "cell_type": "markdown",
   "id": "f0592bb7",
   "metadata": {},
   "source": [
    "So usage doesn't happen between 5-12 at all, so only afternoon and in the wee hours of the morning. "
   ]
  },
  {
   "cell_type": "code",
   "execution_count": 102,
   "id": "4053aff7",
   "metadata": {},
   "outputs": [
    {
     "name": "stderr",
     "output_type": "stream",
     "text": [
      "/var/folders/1t/671mxt1x2bj2c4t5bvjchvj80000gn/T/ipykernel_4709/2170215647.py:1: FutureWarning: Inferring timedelta64[ns] from data containing strings is deprecated and will be removed in a future version. To retain the old behavior explicitly pass Series(data, dtype=timedelta64[ns])\n",
      "  timestamps.plot(x='month',y='hour', kind='scatter',alpha=0.5)\n"
     ]
    },
    {
     "data": {
      "text/plain": [
       "<AxesSubplot:xlabel='month', ylabel='hour'>"
      ]
     },
     "execution_count": 102,
     "metadata": {},
     "output_type": "execute_result"
    },
    {
     "data": {
      "image/png": "[encoded data removed]",
      "text/plain": [
       "<Figure size 640x480 with 1 Axes>"
      ]
     },
     "metadata": {},
     "output_type": "display_data"
    }
   ],
   "source": [
    "timestamps.plot(x='month',y='hour', kind='scatter',alpha=0.5)"
   ]
  },
  {
   "cell_type": "markdown",
   "id": "1f25ef63",
   "metadata": {},
   "source": [
    "I am going to assume this is some kind of academic thing, maybe a grading platform? Although then I don't think it would be used during the summer. It's only used in the early morning during the school year, though, and grading seems like a thing that could happen at 2 AM. It could be entertainment as well, maybe that makes more sense, that because so much is happening during the schoolyear, Netflix time has to be the early AM.\n",
    "Edit: just came back and added transparency which is super light over the summer so I feel like it must be something school related."
   ]
  },
  {
   "cell_type": "markdown",
   "id": "3bf90366",
   "metadata": {},
   "source": [
    "# Part 3"
   ]
  },
  {
   "cell_type": "markdown",
   "id": "135a4cd2",
   "metadata": {},
   "source": [
    "For Part 3, I used my personal Netflix information, using only the timestamps. "
   ]
  },
  {
   "cell_type": "code",
   "execution_count": 76,
   "id": "82c94f2d",
   "metadata": {},
   "outputs": [
    {
     "data": {
      "text/html": [
       "<div>\n",
       "<style scoped>\n",
       "    .dataframe tbody tr th:only-of-type {\n",
       "        vertical-align: middle;\n",
       "    }\n",
       "\n",
       "    .dataframe tbody tr th {\n",
       "        vertical-align: top;\n",
       "    }\n",
       "\n",
       "    .dataframe thead th {\n",
       "        text-align: right;\n",
       "    }\n",
       "</style>\n",
       "<table border=\"1\" class=\"dataframe\">\n",
       "  <thead>\n",
       "    <tr style=\"text-align: right;\">\n",
       "      <th></th>\n",
       "      <th>Unnamed: 0</th>\n",
       "      <th>Click Utc Ts</th>\n",
       "    </tr>\n",
       "  </thead>\n",
       "  <tbody>\n",
       "    <tr>\n",
       "      <th>0</th>\n",
       "      <td>58</td>\n",
       "      <td>2023-10-08 06:42:13</td>\n",
       "    </tr>\n",
       "    <tr>\n",
       "      <th>1</th>\n",
       "      <td>59</td>\n",
       "      <td>2023-10-08 06:42:13</td>\n",
       "    </tr>\n",
       "    <tr>\n",
       "      <th>2</th>\n",
       "      <td>60</td>\n",
       "      <td>2023-10-08 06:42:09</td>\n",
       "    </tr>\n",
       "    <tr>\n",
       "      <th>3</th>\n",
       "      <td>61</td>\n",
       "      <td>2023-10-08 06:42:09</td>\n",
       "    </tr>\n",
       "    <tr>\n",
       "      <th>4</th>\n",
       "      <td>62</td>\n",
       "      <td>2023-10-08 06:42:09</td>\n",
       "    </tr>\n",
       "    <tr>\n",
       "      <th>...</th>\n",
       "      <td>...</td>\n",
       "      <td>...</td>\n",
       "    </tr>\n",
       "    <tr>\n",
       "      <th>935</th>\n",
       "      <td>993</td>\n",
       "      <td>2023-06-20 23:36:15</td>\n",
       "    </tr>\n",
       "    <tr>\n",
       "      <th>936</th>\n",
       "      <td>994</td>\n",
       "      <td>2023-06-20 00:41:04</td>\n",
       "    </tr>\n",
       "    <tr>\n",
       "      <th>937</th>\n",
       "      <td>995</td>\n",
       "      <td>2023-06-20 00:41:04</td>\n",
       "    </tr>\n",
       "    <tr>\n",
       "      <th>938</th>\n",
       "      <td>996</td>\n",
       "      <td>2023-06-20 00:40:56</td>\n",
       "    </tr>\n",
       "    <tr>\n",
       "      <th>939</th>\n",
       "      <td>997</td>\n",
       "      <td>2023-06-20 00:40:56</td>\n",
       "    </tr>\n",
       "  </tbody>\n",
       "</table>\n",
       "<p>940 rows × 2 columns</p>\n",
       "</div>"
      ],
      "text/plain": [
       "     Unnamed: 0         Click Utc Ts\n",
       "0            58  2023-10-08 06:42:13\n",
       "1            59  2023-10-08 06:42:13\n",
       "2            60  2023-10-08 06:42:09\n",
       "3            61  2023-10-08 06:42:09\n",
       "4            62  2023-10-08 06:42:09\n",
       "..          ...                  ...\n",
       "935         993  2023-06-20 23:36:15\n",
       "936         994  2023-06-20 00:41:04\n",
       "937         995  2023-06-20 00:41:04\n",
       "938         996  2023-06-20 00:40:56\n",
       "939         997  2023-06-20 00:40:56\n",
       "\n",
       "[940 rows x 2 columns]"
      ]
     },
     "execution_count": 76,
     "metadata": {},
     "output_type": "execute_result"
    }
   ],
   "source": [
    "nikita_netflix = pd.read_csv('/Users/nikita/Desktop/personal data/netflix_timestamps')\n",
    "nikita_netflix"
   ]
  },
  {
   "cell_type": "code",
   "execution_count": 90,
   "id": "e326194c",
   "metadata": {},
   "outputs": [
    {
     "name": "stderr",
     "output_type": "stream",
     "text": [
      "/var/folders/1t/671mxt1x2bj2c4t5bvjchvj80000gn/T/ipykernel_4709/1604350162.py:2: SettingWithCopyWarning: \n",
      "A value is trying to be set on a copy of a slice from a DataFrame\n",
      "\n",
      "See the caveats in the documentation: https://pandas.pydata.org/pandas-docs/stable/user_guide/indexing.html#returning-a-view-versus-a-copy\n",
      "  nikita_netflix['Click Utc Ts'][i]=pd.Timestamp(nikita_netflix['Click Utc Ts'][i])\n"
     ]
    }
   ],
   "source": [
    "for i in range(len(nikita_netflix)):\n",
    "    nikita_netflix['Click Utc Ts'][i]=pd.Timestamp(nikita_netflix['Click Utc Ts'][i])"
   ]
  },
  {
   "cell_type": "code",
   "execution_count": 116,
   "id": "c1c2140e",
   "metadata": {},
   "outputs": [
    {
     "name": "stderr",
     "output_type": "stream",
     "text": [
      "/var/folders/1t/671mxt1x2bj2c4t5bvjchvj80000gn/T/ipykernel_4709/2852970245.py:4: SettingWithCopyWarning: \n",
      "A value is trying to be set on a copy of a slice from a DataFrame\n",
      "\n",
      "See the caveats in the documentation: https://pandas.pydata.org/pandas-docs/stable/user_guide/indexing.html#returning-a-view-versus-a-copy\n",
      "  nikita_netflix['time_of_year'][i]=pd.Timestamp(month=nikita_netflix['Click Utc Ts'][i].month, day=(nikita_netflix['Click Utc Ts'][i].day),year=(nikita_netflix['Click Utc Ts'][i].year))\n",
      "/var/folders/1t/671mxt1x2bj2c4t5bvjchvj80000gn/T/ipykernel_4709/2852970245.py:5: SettingWithCopyWarning: \n",
      "A value is trying to be set on a copy of a slice from a DataFrame\n",
      "\n",
      "See the caveats in the documentation: https://pandas.pydata.org/pandas-docs/stable/user_guide/indexing.html#returning-a-view-versus-a-copy\n",
      "  nikita_netflix['time_of_day'][i]=nikita_netflix['Click Utc Ts'][i].hour + nikita_netflix['Click Utc Ts'][i].minute/60\n"
     ]
    }
   ],
   "source": [
    "nikita_netflix['time_of_year']=''\n",
    "nikita_netflix['time_of_day'] = ''\n",
    "nikita_netflix['month'] = ''\n",
    "for i in range(len(nikita_netflix)):\n",
    "    nikita_netflix['time_of_year'][i]=pd.Timestamp(month=nikita_netflix['Click Utc Ts'][i].month, day=(nikita_netflix['Click Utc Ts'][i].day),year=(nikita_netflix['Click Utc Ts'][i].year))\n",
    "    nikita_netflix['time_of_day'][i]=nikita_netflix['Click Utc Ts'][i].hour + nikita_netflix['Click Utc Ts'][i].minute/60\n",
    "    nikita_netflix['time_of_day'][i]=nikita_netflix['Click Utc Ts'][i].month"
   ]
  },
  {
   "cell_type": "code",
   "execution_count": 117,
   "id": "b901fd99",
   "metadata": {},
   "outputs": [
    {
     "data": {
      "text/plain": [
       "<AxesSubplot:xlabel='time_of_year', ylabel='time_of_day'>"
      ]
     },
     "execution_count": 117,
     "metadata": {},
     "output_type": "execute_result"
    },
    {
     "data": {
      "image/png": "[encoded data removed]",
      "text/plain": [
       "<Figure size 640x480 with 1 Axes>"
      ]
     },
     "metadata": {},
     "output_type": "display_data"
    }
   ],
   "source": [
    "nikita_netflix.plot(x='time_of_year',y='time_of_day', kind='scatter', alpha=0.1)"
   ]
  },
  {
   "cell_type": "markdown",
   "id": "f0713552",
   "metadata": {},
   "source": [
    "I feel like I must be reading this wrong or doing something wrong because I've definitely never watched Netflix past maybe 2AM. Certainly not 5AM. Certainly not that regularly."
   ]
  },
  {
   "cell_type": "code",
   "execution_count": 121,
   "id": "2bda8282",
   "metadata": {},
   "outputs": [
    {
     "data": {
      "text/plain": [
       "2023-09-13 02:48:08    18\n",
       "2023-08-01 21:06:30    16\n",
       "2023-09-12 05:08:47    16\n",
       "2023-09-16 02:16:42    15\n",
       "2023-09-13 02:48:09    14\n",
       "                       ..\n",
       "2023-08-08 23:13:35     1\n",
       "2023-08-08 23:13:02     1\n",
       "2023-08-05 00:00:11     1\n",
       "2023-08-07 22:48:54     1\n",
       "2023-07-30 22:23:44     1\n",
       "Name: Click Utc Ts, Length: 358, dtype: int64"
      ]
     },
     "execution_count": 121,
     "metadata": {},
     "output_type": "execute_result"
    }
   ],
   "source": [
    "nikita_netflix['Click Utc Ts'].value_counts()"
   ]
  },
  {
   "cell_type": "markdown",
   "id": "3291647e",
   "metadata": {},
   "source": [
    "No idea."
   ]
  },
  {
   "cell_type": "code",
   "execution_count": 124,
   "id": "8541b68e",
   "metadata": {},
   "outputs": [
    {
     "name": "stderr",
     "output_type": "stream",
     "text": [
      "/var/folders/1t/671mxt1x2bj2c4t5bvjchvj80000gn/T/ipykernel_4709/600200640.py:2: FutureWarning: Inferring timedelta64[ns] from data containing strings is deprecated and will be removed in a future version. To retain the old behavior explicitly pass Series(data, dtype=timedelta64[ns])\n",
      "  timestamps.plot(x='month',y='hour', kind='scatter',alpha=0.5)\n"
     ]
    },
    {
     "data": {
      "text/plain": [
       "<AxesSubplot:xlabel='month', ylabel='hour'>"
      ]
     },
     "execution_count": 124,
     "metadata": {},
     "output_type": "execute_result"
    },
    {
     "data": {
      "image/png": "[encoded data removed]",
      "text/plain": [
       "<Figure size 640x480 with 1 Axes>"
      ]
     },
     "metadata": {},
     "output_type": "display_data"
    },
    {
     "data": {
      "image/png": "[encoded data removed]",
      "text/plain": [
       "<Figure size 640x480 with 1 Axes>"
      ]
     },
     "metadata": {},
     "output_type": "display_data"
    }
   ],
   "source": [
    "nikita_netflix.plot(x='month',y='time_of_day', kind='scatter', alpha=0.1,color='r')\n",
    "timestamps.plot(x='month',y='hour', kind='scatter',alpha=0.5)"
   ]
  },
  {
   "cell_type": "code",
   "execution_count": 128,
   "id": "2097101c",
   "metadata": {
    "scrolled": true
   },
   "outputs": [
    {
     "data": {
      "text/plain": [
       "<matplotlib.collections.PathCollection at 0x7fa048262970>"
      ]
     },
     "execution_count": 128,
     "metadata": {},
     "output_type": "execute_result"
    },
    {
     "data": {
      "image/png": "[encoded data removed]",
      "text/plain": [
       "<Figure size 640x480 with 1 Axes>"
      ]
     },
     "metadata": {},
     "output_type": "display_data"
    }
   ],
   "source": [
    "fig=plot.figure()\n",
    "axis=fig.add_subplot(111)\n",
    "axis.scatter(x=nikita_netflix['month'],y=nikita_netflix['time_of_day'],alpha=0.1,color='b')\n",
    "axis.scatter(x=timestamps['month'],y=timestamps['hour'],alpha=0.5, color='r')"
   ]
  },
  {
   "cell_type": "markdown",
   "id": "afef9a7f",
   "metadata": {},
   "source": [
    "I think I would need more of my watch history to really see what's going on, but just the section showing it looks like my watching habits are somewhat inverse of Professor WB's. It could be that mine are just consistent, though, while hers patter out around the summer, early August."
   ]
  },
  {
   "cell_type": "markdown",
   "id": "7426cca9",
   "metadata": {},
   "source": [
    "# Part 4"
   ]
  },
  {
   "cell_type": "markdown",
   "id": "49a5a832",
   "metadata": {},
   "source": [
    "I will abstract what I did for Part 4 without including my personal data."
   ]
  },
  {
   "cell_type": "markdown",
   "id": "aff4d2fc",
   "metadata": {},
   "source": [
    "First I imported my Netflix watch information and made a new dataframe that isolated only my watch information because I share an account with my mom. \n",
    "\n",
    "df_nikita = df[df['Profile Name']=='Nikita']"
   ]
  },
  {
   "cell_type": "markdown",
   "id": "a791182d",
   "metadata": {},
   "source": [
    "Then I saw that there was a column called 'Supplemental Video Type' that showed whether the content I watched was a movie or show, or was a trailer or hook. I got an idea:\n",
    "\n",
    "'Okay, I have an idea. So they play those little autotrailers at the end of Netflix right, I'm curious which ones I closed the fastest and which ones I waited out. I feel like when I close them immediately it means that I really liked whatever I watched right before it and so I want to 'pay my respects' by watching the credits.'"
   ]
  },
  {
   "cell_type": "markdown",
   "id": "d703f085",
   "metadata": {},
   "source": [
    "I isolated for rows where 'Supplemental Video Type' was .notnull() (null indicated a full movie or tv show episode) and then sorted for duration to see which one I closed the fastest."
   ]
  },
  {
   "cell_type": "markdown",
   "id": "1ba2ad20",
   "metadata": {},
   "source": [
    "Then I went back through and pulled the timestamp for the trailer I closed the fastest to see if I could find what I had been watching directly before. "
   ]
  },
  {
   "cell_type": "markdown",
   "id": "365c12f6",
   "metadata": {},
   "source": [
    "It showed that I had been watching a bunch of teaser trailers and hooks successionally so I was probably just surfing through Netflix to try and find what to watch. This was unsatisfyiing so I tried again."
   ]
  },
  {
   "cell_type": "markdown",
   "id": "dcde5727",
   "metadata": {},
   "source": [
    "This time, I created a new dataframe with only movies/tv episodes and the hooks that came directly after them by using \n",
    "if isnull(df['Supplemental Video Type'].iloc[i]) and notnull(df['Supplemental Video Type'].iloc[i+1]):\n",
    "If I found a pair, I added it to a list, and at the end turned the list into a new dataframe."
   ]
  },
  {
   "cell_type": "markdown",
   "id": "1bcb1327",
   "metadata": {},
   "source": [
    "Then I used .sort_values('Duration'), took out a row using row=df.sort_values('Duration').iloc[0] and found it's index position in the original not sorted dataframe using df.index.get_loc(row.name)."
   ]
  },
  {
   "cell_type": "markdown",
   "id": "28ab5d30",
   "metadata": {},
   "source": [
    "Then I found it's pairing using df.iloc[[value,value+1]]."
   ]
  },
  {
   "cell_type": "markdown",
   "id": "2ea07784",
   "metadata": {},
   "source": [
    "This was a cool way to see what shows I liked the vibes enough of to want to stay in it and not have it be interrupted by the trailer that automatically played after."
   ]
  },
  {
   "cell_type": "markdown",
   "id": "391509db",
   "metadata": {},
   "source": [
    "I came up with two alternate visualizations as well:"
   ]
  },
  {
   "attachments": {
    "download.png": {
     "image/png": "[encoded data removed]"
    }
   },
   "cell_type": "markdown",
   "id": "64f5cda0",
   "metadata": {},
   "source": [
    "![download.png](attachment:download.png)\n",
    "First, I remade the visualization from Parts 1-3 just to make sure I was doing it right and it matched."
   ]
  },
  {
   "attachments": {
    "download-1.png": {
     "image/png": "[encoded data removed]"
    }
   },
   "cell_type": "markdown",
   "id": "c8ce38a8",
   "metadata": {},
   "source": [
    "![download-1.png](attachment:download-1.png)\n",
    "Then I made a visualization using 'Duration.' It was interesting because I didn't realize just how many trailers and hooks I was watching, or watched without really watching because Netflix is constantly playing them."
   ]
  }
 ],
 "metadata": {
  "kernelspec": {
   "display_name": "Python 3 (ipykernel)",
   "language": "python",
   "name": "python3"
  },
  "language_info": {
   "codemirror_mode": {
    "name": "ipython",
    "version": 3
   },
   "file_extension": ".py",
   "mimetype": "text/x-python",
   "name": "python",
   "nbconvert_exporter": "python",
   "pygments_lexer": "ipython3",
   "version": "3.9.12"
  }
 },
 "nbformat": 4,
 "nbformat_minor": 5
}
